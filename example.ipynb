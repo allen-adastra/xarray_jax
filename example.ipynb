{
 "cells": [
  {
   "cell_type": "markdown",
   "metadata": {},
   "source": [
    "## Simple Example with air_temperature Dataset"
   ]
  },
  {
   "cell_type": "code",
   "execution_count": 1,
   "metadata": {},
   "outputs": [
    {
     "name": "stdout",
     "output_type": "stream",
     "text": [
      "<xarray.Dataset> Size: 16MB\n",
      "Dimensions:   (time: 2920, lat: 25, lon: 53)\n",
      "Coordinates:\n",
      "  * lat       (lat) float32 100B 75.0 72.5 70.0 67.5 ... 22.5 20.0 17.5 15.0\n",
      "  * lon       (lon) float32 212B 200.0 202.5 205.0 207.5 ... 325.0 327.5 330.0\n",
      "  * time      (time) datetime64[ns] 23kB 2013-01-01 ... 2014-12-31T18:00:00\n",
      "Data variables:\n",
      "    air       (time, lat, lon) float32 15MB ...\n",
      "    air_mean  (lat, lon) float32 5kB ...\n",
      "Attributes:\n",
      "    Conventions:  COARDS\n",
      "    title:        4x daily NMC reanalysis (1948)\n",
      "    description:  Data is from NMC initialized reanalysis\\n(4x/day).  These a...\n",
      "    platform:     Model\n",
      "    references:   http://www.esrl.noaa.gov/psd/data/gridded/data.ncep.reanaly...\n",
      "<xarray.Dataset> Size: 29kB\n",
      "Dimensions:   (lat: 25, lon: 53, time: 2920)\n",
      "Coordinates:\n",
      "  * lat       (lat) float32 100B 75.0 72.5 70.0 67.5 ... 22.5 20.0 17.5 15.0\n",
      "  * lon       (lon) float32 212B 200.0 202.5 205.0 207.5 ... 325.0 327.5 330.0\n",
      "  * time      (time) datetime64[ns] 23kB 2013-01-01 ... 2014-12-31T18:00:00\n",
      "Data variables:\n",
      "    air_mean  (lat, lon) float32 5kB ...\n",
      "Attributes:\n",
      "    Conventions:  COARDS\n",
      "    title:        4x daily NMC reanalysis (1948)\n",
      "    description:  Data is from NMC initialized reanalysis\\n(4x/day).  These a...\n",
      "    platform:     Model\n",
      "    references:   http://www.esrl.noaa.gov/psd/data/gridded/data.ncep.reanaly...\n"
     ]
    }
   ],
   "source": [
    "%load_ext autoreload\n",
    "%autoreload 2\n",
    "\n",
    "from xarray_jax import XJDataset\n",
    "import jax\n",
    "import xarray as xr\n",
    "import jax.numpy as jnp\n",
    "\n",
    "air_ds = xr.tutorial.load_dataset(\"air_temperature\")\n",
    "\n",
    "\n",
    "@jax.jit\n",
    "def process_ds(ds: XJDataset):  # xr.Dataset gets converted to XJDataset automatically\n",
    "    ds = ds.to_xarray()  # Convert back to a standard xr.Dataset\n",
    "\n",
    "    # Take the mean temp across time.\n",
    "    # Current discussion on making this smoother by enabling automatic dispatching.\n",
    "    # https://github.com/pydata/xarray/issues/7848\n",
    "    ds[\"air_mean\"] = xr.apply_ufunc(\n",
    "        jnp.mean, ds[\"air\"], input_core_dims=[[\"time\"]], kwargs={\"axis\": -1}\n",
    "    )\n",
    "\n",
    "    # We can use the usual tree.map to mask out non-2D arrays.\n",
    "    two_dim_ds = jax.tree.map(lambda x: x if x.ndim == 2 else None, ds)\n",
    "    return ds, two_dim_ds\n",
    "\n",
    "\n",
    "xjds, two_dim_xjds = process_ds(air_ds)  # Output of type XJDataset\n",
    "\n",
    "ds, two_dim_ds = xjds.to_xarray(), two_dim_xjds.to_xarray()\n",
    "print(ds)\n",
    "print(two_dim_ds)"
   ]
  },
  {
   "cell_type": "markdown",
   "metadata": {},
   "source": [
    "# Using a xr.DataArray with Diffrax"
   ]
  },
  {
   "cell_type": "code",
   "execution_count": 9,
   "metadata": {},
   "outputs": [
    {
     "name": "stdout",
     "output_type": "stream",
     "text": [
      "XJDataArray(\n",
      "  variable=XJVariable(data=f32[100,10], dims=('x',), attrs={}),\n",
      "  coords=_HashableCoords(Coordinates:\n",
      "    *empty*),\n",
      "  name=None\n",
      ")\n"
     ]
    }
   ],
   "source": [
    "import diffrax\n",
    "import jax\n",
    "import jax.numpy as jnp\n",
    "\n",
    "da = xr.DataArray(jnp.arange(10), dims=[\"x\"])\n",
    "\n",
    "\n",
    "@jax.jit\n",
    "def fn(t, y, args):\n",
    "    da = y.to_xarray()\n",
    "    y_dot = -1.0 * xr.apply_ufunc(jnp.square, da)\n",
    "    return y_dot\n",
    "\n",
    "\n",
    "term = diffrax.ODETerm(fn)\n",
    "solver = diffrax.Dopri5()\n",
    "ts = jnp.linspace(0, 1, 100)\n",
    "sol = diffrax.diffeqsolve(\n",
    "    term, solver, t0=0.0, t1=1.0, dt0=0.01, y0=da, saveat=diffrax.SaveAt(ts=ts)\n",
    ")\n",
    "\n",
    "print(sol.ys)  # TODO: handle the fact that we introduced new coords/dims"
   ]
  }
 ],
 "metadata": {
  "kernelspec": {
   "display_name": ".venv",
   "language": "python",
   "name": "python3"
  },
  "language_info": {
   "codemirror_mode": {
    "name": "ipython",
    "version": 3
   },
   "file_extension": ".py",
   "mimetype": "text/x-python",
   "name": "python",
   "nbconvert_exporter": "python",
   "pygments_lexer": "ipython3",
   "version": "3.10.12"
  }
 },
 "nbformat": 4,
 "nbformat_minor": 2
}
