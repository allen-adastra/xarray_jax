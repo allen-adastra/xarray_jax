{
 "cells": [
  {
   "cell_type": "markdown",
   "metadata": {},
   "source": [
    "## Simple Example with air_temperature Dataset"
   ]
  },
  {
   "cell_type": "code",
   "execution_count": 1,
   "metadata": {},
   "outputs": [],
   "source": [
    "%load_ext autoreload\n",
    "%autoreload 2\n",
    "\n",
    "from xarray_jax import XJDataset\n",
    "import jax\n",
    "import xarray as xr\n",
    "import jax.numpy as jnp\n",
    "\n",
    "air_ds = xr.tutorial.load_dataset(\"air_temperature\")\n",
    "\n",
    "\n",
    "@jax.jit\n",
    "def process_ds(ds: XJDataset):  # xr.Dataset gets converted to XJDataset automatically\n",
    "    ds = ds.to_xarray()  # Convert back to a standard xr.Dataset\n",
    "\n",
    "    # Take the mean temp across time.\n",
    "    # Current discussion on making this smoother by enabling automatic dispatching.\n",
    "    # https://github.com/pydata/xarray/issues/7848\n",
    "    ds[\"air_mean\"] = xr.apply_ufunc(\n",
    "        jnp.mean, ds[\"air\"], input_core_dims=[[\"time\"]], kwargs={\"axis\": -1}\n",
    "    )\n",
    "\n",
    "    # We can use the usual tree.map to mask out non-2D arrays.\n",
    "    two_dim_ds = jax.tree.map(lambda x: x if x.ndim == 2 else None, ds)\n",
    "    return ds, two_dim_ds\n",
    "\n",
    "\n",
    "# xjds, two_dim_xjds = process_ds(air_ds)  # Output of type XJDataset\n",
    "\n",
    "# ds, two_dim_ds = xjds.to_xarray(), two_dim_xjds.to_xarray()\n",
    "# print(ds)\n",
    "# print(two_dim_ds)"
   ]
  },
  {
   "cell_type": "markdown",
   "metadata": {},
   "source": [
    "# Using a xr.DataArray with Diffrax"
   ]
  },
  {
   "cell_type": "code",
   "execution_count": 2,
   "metadata": {},
   "outputs": [],
   "source": [
    "import diffrax\n",
    "import jax\n",
    "import jax.numpy as jnp\n",
    "import xarray_jax\n",
    "import xarray as xr\n",
    "from xarray_jax.register_pytrees import dims_change_on_unflatten\n",
    "\n",
    "da = xr.DataArray(jnp.arange(10), dims=[\"x\"])\n",
    "\n",
    "\n",
    "@jax.jit\n",
    "def fn(t, y, args):\n",
    "    y_dot = -1.0 * xr.apply_ufunc(jnp.square, y)\n",
    "    return y_dot\n",
    "\n",
    "\n",
    "term = diffrax.ODETerm(fn)\n",
    "solver = diffrax.Dopri5()\n",
    "ts = jnp.linspace(0, 1, 100)\n",
    "\n",
    "with dims_change_on_unflatten(lambda dims: (\"time\",) + dims):\n",
    "    sol = diffrax.diffeqsolve(\n",
    "        term, solver, t0=0.0, t1=1.0, dt0=0.01, y0=da, saveat=diffrax.SaveAt(ts=ts)\n",
    "    )\n",
    "\n",
    "# print(sol.ys)  # TODO: handle the fact that we introduced new coords/dims"
   ]
  },
  {
   "cell_type": "code",
   "execution_count": 2,
   "metadata": {},
   "outputs": [
    {
     "ename": "ValueError",
     "evalue": "zip() argument 2 is longer than argument 1",
     "output_type": "error",
     "traceback": [
      "\u001b[0;31m---------------------------------------------------------------------------\u001b[0m",
      "\u001b[0;31mValueError\u001b[0m                                Traceback (most recent call last)",
      "File \u001b[0;32m~/repos/xarray_jax/.venv/lib/python3.10/site-packages/IPython/core/formatters.py:711\u001b[0m, in \u001b[0;36mPlainTextFormatter.__call__\u001b[0;34m(self, obj)\u001b[0m\n\u001b[1;32m    704\u001b[0m stream \u001b[38;5;241m=\u001b[39m StringIO()\n\u001b[1;32m    705\u001b[0m printer \u001b[38;5;241m=\u001b[39m pretty\u001b[38;5;241m.\u001b[39mRepresentationPrinter(stream, \u001b[38;5;28mself\u001b[39m\u001b[38;5;241m.\u001b[39mverbose,\n\u001b[1;32m    706\u001b[0m     \u001b[38;5;28mself\u001b[39m\u001b[38;5;241m.\u001b[39mmax_width, \u001b[38;5;28mself\u001b[39m\u001b[38;5;241m.\u001b[39mnewline,\n\u001b[1;32m    707\u001b[0m     max_seq_length\u001b[38;5;241m=\u001b[39m\u001b[38;5;28mself\u001b[39m\u001b[38;5;241m.\u001b[39mmax_seq_length,\n\u001b[1;32m    708\u001b[0m     singleton_pprinters\u001b[38;5;241m=\u001b[39m\u001b[38;5;28mself\u001b[39m\u001b[38;5;241m.\u001b[39msingleton_printers,\n\u001b[1;32m    709\u001b[0m     type_pprinters\u001b[38;5;241m=\u001b[39m\u001b[38;5;28mself\u001b[39m\u001b[38;5;241m.\u001b[39mtype_printers,\n\u001b[1;32m    710\u001b[0m     deferred_pprinters\u001b[38;5;241m=\u001b[39m\u001b[38;5;28mself\u001b[39m\u001b[38;5;241m.\u001b[39mdeferred_printers)\n\u001b[0;32m--> 711\u001b[0m \u001b[43mprinter\u001b[49m\u001b[38;5;241;43m.\u001b[39;49m\u001b[43mpretty\u001b[49m\u001b[43m(\u001b[49m\u001b[43mobj\u001b[49m\u001b[43m)\u001b[49m\n\u001b[1;32m    712\u001b[0m printer\u001b[38;5;241m.\u001b[39mflush()\n\u001b[1;32m    713\u001b[0m \u001b[38;5;28;01mreturn\u001b[39;00m stream\u001b[38;5;241m.\u001b[39mgetvalue()\n",
      "File \u001b[0;32m~/repos/xarray_jax/.venv/lib/python3.10/site-packages/IPython/lib/pretty.py:419\u001b[0m, in \u001b[0;36mRepresentationPrinter.pretty\u001b[0;34m(self, obj)\u001b[0m\n\u001b[1;32m    408\u001b[0m                         \u001b[38;5;28;01mreturn\u001b[39;00m meth(obj, \u001b[38;5;28mself\u001b[39m, cycle)\n\u001b[1;32m    409\u001b[0m                 \u001b[38;5;28;01mif\u001b[39;00m (\n\u001b[1;32m    410\u001b[0m                     \u001b[38;5;28mcls\u001b[39m \u001b[38;5;129;01mis\u001b[39;00m \u001b[38;5;129;01mnot\u001b[39;00m \u001b[38;5;28mobject\u001b[39m\n\u001b[1;32m    411\u001b[0m                     \u001b[38;5;66;03m# check if cls defines __repr__\u001b[39;00m\n\u001b[0;32m   (...)\u001b[0m\n\u001b[1;32m    417\u001b[0m                     \u001b[38;5;129;01mand\u001b[39;00m \u001b[38;5;28mcallable\u001b[39m(_safe_getattr(\u001b[38;5;28mcls\u001b[39m, \u001b[38;5;124m\"\u001b[39m\u001b[38;5;124m__repr__\u001b[39m\u001b[38;5;124m\"\u001b[39m, \u001b[38;5;28;01mNone\u001b[39;00m))\n\u001b[1;32m    418\u001b[0m                 ):\n\u001b[0;32m--> 419\u001b[0m                     \u001b[38;5;28;01mreturn\u001b[39;00m \u001b[43m_repr_pprint\u001b[49m\u001b[43m(\u001b[49m\u001b[43mobj\u001b[49m\u001b[43m,\u001b[49m\u001b[43m \u001b[49m\u001b[38;5;28;43mself\u001b[39;49m\u001b[43m,\u001b[49m\u001b[43m \u001b[49m\u001b[43mcycle\u001b[49m\u001b[43m)\u001b[49m\n\u001b[1;32m    421\u001b[0m     \u001b[38;5;28;01mreturn\u001b[39;00m _default_pprint(obj, \u001b[38;5;28mself\u001b[39m, cycle)\n\u001b[1;32m    422\u001b[0m \u001b[38;5;28;01mfinally\u001b[39;00m:\n",
      "File \u001b[0;32m~/repos/xarray_jax/.venv/lib/python3.10/site-packages/IPython/lib/pretty.py:787\u001b[0m, in \u001b[0;36m_repr_pprint\u001b[0;34m(obj, p, cycle)\u001b[0m\n\u001b[1;32m    785\u001b[0m \u001b[38;5;250m\u001b[39m\u001b[38;5;124;03m\"\"\"A pprint that just redirects to the normal repr function.\"\"\"\u001b[39;00m\n\u001b[1;32m    786\u001b[0m \u001b[38;5;66;03m# Find newlines and replace them with p.break_()\u001b[39;00m\n\u001b[0;32m--> 787\u001b[0m output \u001b[38;5;241m=\u001b[39m \u001b[38;5;28;43mrepr\u001b[39;49m\u001b[43m(\u001b[49m\u001b[43mobj\u001b[49m\u001b[43m)\u001b[49m\n\u001b[1;32m    788\u001b[0m lines \u001b[38;5;241m=\u001b[39m output\u001b[38;5;241m.\u001b[39msplitlines()\n\u001b[1;32m    789\u001b[0m \u001b[38;5;28;01mwith\u001b[39;00m p\u001b[38;5;241m.\u001b[39mgroup():\n",
      "File \u001b[0;32m~/repos/xarray_jax/.venv/lib/python3.10/site-packages/xarray/core/common.py:183\u001b[0m, in \u001b[0;36mAbstractArray.__repr__\u001b[0;34m(self)\u001b[0m\n\u001b[1;32m    182\u001b[0m \u001b[38;5;28;01mdef\u001b[39;00m \u001b[38;5;21m__repr__\u001b[39m(\u001b[38;5;28mself\u001b[39m) \u001b[38;5;241m-\u001b[39m\u001b[38;5;241m>\u001b[39m \u001b[38;5;28mstr\u001b[39m:\n\u001b[0;32m--> 183\u001b[0m     \u001b[38;5;28;01mreturn\u001b[39;00m \u001b[43mformatting\u001b[49m\u001b[38;5;241;43m.\u001b[39;49m\u001b[43marray_repr\u001b[49m\u001b[43m(\u001b[49m\u001b[38;5;28;43mself\u001b[39;49m\u001b[43m)\u001b[49m\n",
      "File \u001b[0;32m/usr/lib/python3.10/reprlib.py:21\u001b[0m, in \u001b[0;36mrecursive_repr.<locals>.decorating_function.<locals>.wrapper\u001b[0;34m(self)\u001b[0m\n\u001b[1;32m     19\u001b[0m repr_running\u001b[38;5;241m.\u001b[39madd(key)\n\u001b[1;32m     20\u001b[0m \u001b[38;5;28;01mtry\u001b[39;00m:\n\u001b[0;32m---> 21\u001b[0m     result \u001b[38;5;241m=\u001b[39m \u001b[43muser_function\u001b[49m\u001b[43m(\u001b[49m\u001b[38;5;28;43mself\u001b[39;49m\u001b[43m)\u001b[49m\n\u001b[1;32m     22\u001b[0m \u001b[38;5;28;01mfinally\u001b[39;00m:\n\u001b[1;32m     23\u001b[0m     repr_running\u001b[38;5;241m.\u001b[39mdiscard(key)\n",
      "File \u001b[0;32m~/repos/xarray_jax/.venv/lib/python3.10/site-packages/xarray/core/formatting.py:697\u001b[0m, in \u001b[0;36marray_repr\u001b[0;34m(arr)\u001b[0m\n\u001b[1;32m    694\u001b[0m     data_repr \u001b[38;5;241m=\u001b[39m inline_variable_array_repr(arr\u001b[38;5;241m.\u001b[39mvariable, OPTIONS[\u001b[38;5;124m\"\u001b[39m\u001b[38;5;124mdisplay_width\u001b[39m\u001b[38;5;124m\"\u001b[39m])\n\u001b[1;32m    696\u001b[0m start \u001b[38;5;241m=\u001b[39m \u001b[38;5;124mf\u001b[39m\u001b[38;5;124m\"\u001b[39m\u001b[38;5;124m<xarray.\u001b[39m\u001b[38;5;132;01m{\u001b[39;00m\u001b[38;5;28mtype\u001b[39m(arr)\u001b[38;5;241m.\u001b[39m\u001b[38;5;18m__name__\u001b[39m\u001b[38;5;132;01m}\u001b[39;00m\u001b[38;5;124m \u001b[39m\u001b[38;5;132;01m{\u001b[39;00mname_str\u001b[38;5;132;01m}\u001b[39;00m\u001b[38;5;124m\"\u001b[39m\n\u001b[0;32m--> 697\u001b[0m dims \u001b[38;5;241m=\u001b[39m dim_summary_limited(\u001b[43marr\u001b[49m\u001b[38;5;241;43m.\u001b[39;49m\u001b[43msizes\u001b[49m, col_width\u001b[38;5;241m=\u001b[39m\u001b[38;5;28mlen\u001b[39m(start) \u001b[38;5;241m+\u001b[39m \u001b[38;5;241m1\u001b[39m, max_rows\u001b[38;5;241m=\u001b[39mmax_rows)\n\u001b[1;32m    698\u001b[0m nbytes_str \u001b[38;5;241m=\u001b[39m render_human_readable_nbytes(arr\u001b[38;5;241m.\u001b[39mnbytes)\n\u001b[1;32m    699\u001b[0m summary \u001b[38;5;241m=\u001b[39m [\n\u001b[1;32m    700\u001b[0m     \u001b[38;5;124mf\u001b[39m\u001b[38;5;124m\"\u001b[39m\u001b[38;5;132;01m{\u001b[39;00mstart\u001b[38;5;132;01m}\u001b[39;00m\u001b[38;5;124m(\u001b[39m\u001b[38;5;132;01m{\u001b[39;00mdims\u001b[38;5;132;01m}\u001b[39;00m\u001b[38;5;124m)> Size: \u001b[39m\u001b[38;5;132;01m{\u001b[39;00mnbytes_str\u001b[38;5;132;01m}\u001b[39;00m\u001b[38;5;124m\"\u001b[39m,\n\u001b[1;32m    701\u001b[0m     data_repr,\n\u001b[1;32m    702\u001b[0m ]\n",
      "File \u001b[0;32m~/repos/xarray_jax/.venv/lib/python3.10/site-packages/xarray/core/common.py:257\u001b[0m, in \u001b[0;36mAbstractArray.sizes\u001b[0;34m(self)\u001b[0m\n\u001b[1;32m    247\u001b[0m \u001b[38;5;129m@property\u001b[39m\n\u001b[1;32m    248\u001b[0m \u001b[38;5;28;01mdef\u001b[39;00m \u001b[38;5;21msizes\u001b[39m(\u001b[38;5;28mself\u001b[39m: Any) \u001b[38;5;241m-\u001b[39m\u001b[38;5;241m>\u001b[39m Mapping[Hashable, \u001b[38;5;28mint\u001b[39m]:\n\u001b[1;32m    249\u001b[0m \u001b[38;5;250m    \u001b[39m\u001b[38;5;124;03m\"\"\"Ordered mapping from dimension names to lengths.\u001b[39;00m\n\u001b[1;32m    250\u001b[0m \n\u001b[1;32m    251\u001b[0m \u001b[38;5;124;03m    Immutable.\u001b[39;00m\n\u001b[0;32m   (...)\u001b[0m\n\u001b[1;32m    255\u001b[0m \u001b[38;5;124;03m    Dataset.sizes\u001b[39;00m\n\u001b[1;32m    256\u001b[0m \u001b[38;5;124;03m    \"\"\"\u001b[39;00m\n\u001b[0;32m--> 257\u001b[0m     \u001b[38;5;28;01mreturn\u001b[39;00m Frozen(\u001b[38;5;28;43mdict\u001b[39;49m\u001b[43m(\u001b[49m\u001b[38;5;28;43mzip\u001b[39;49m\u001b[43m(\u001b[49m\u001b[38;5;28;43mself\u001b[39;49m\u001b[38;5;241;43m.\u001b[39;49m\u001b[43mdims\u001b[49m\u001b[43m,\u001b[49m\u001b[43m \u001b[49m\u001b[38;5;28;43mself\u001b[39;49m\u001b[38;5;241;43m.\u001b[39;49m\u001b[43mshape\u001b[49m\u001b[43m,\u001b[49m\u001b[43m \u001b[49m\u001b[43mstrict\u001b[49m\u001b[38;5;241;43m=\u001b[39;49m\u001b[38;5;28;43;01mTrue\u001b[39;49;00m\u001b[43m)\u001b[49m\u001b[43m)\u001b[49m)\n",
      "\u001b[0;31mValueError\u001b[0m: zip() argument 2 is longer than argument 1"
     ]
    }
   ],
   "source": [
    "sol.ys"
   ]
  },
  {
   "cell_type": "code",
   "execution_count": null,
   "metadata": {},
   "outputs": [],
   "source": [
    "import jax\n",
    "import xarray_jax\n",
    "import xarray as xr\n",
    "import jax.numpy as jnp\n",
    "\n",
    "da = xr.DataArray(jnp.arange(10), dims=[\"x\"])"
   ]
  }
 ],
 "metadata": {
  "kernelspec": {
   "display_name": ".venv",
   "language": "python",
   "name": "python3"
  },
  "language_info": {
   "codemirror_mode": {
    "name": "ipython",
    "version": 3
   },
   "file_extension": ".py",
   "mimetype": "text/x-python",
   "name": "python",
   "nbconvert_exporter": "python",
   "pygments_lexer": "ipython3",
   "version": "3.10.12"
  }
 },
 "nbformat": 4,
 "nbformat_minor": 2
}
