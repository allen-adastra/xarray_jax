{
 "cells": [
  {
   "cell_type": "markdown",
   "metadata": {},
   "source": [
    "## Simple Example with air_temperature Dataset"
   ]
  },
  {
   "cell_type": "code",
   "execution_count": null,
   "metadata": {},
   "outputs": [],
   "source": [
    "%load_ext autoreload\n",
    "%autoreload 2\n",
    "\n",
    "import jax\n",
    "import xarray as xr\n",
    "import jax.numpy as jnp\n",
    "import xarray_jax\n",
    "import ipdb\n",
    "\n",
    "air_ds = xr.tutorial.load_dataset(\"air_temperature\")\n",
    "\n",
    "\n",
    "@jax.jit\n",
    "def process_ds(ds: xr.Dataset):\n",
    "    # Take the mean temp across time.\n",
    "    # Current discussion on making this smoother by enabling automatic dispatching.\n",
    "    # https://github.com/pydata/xarray/issues/7848\n",
    "    ds[\"air_mean\"] = xr.apply_ufunc(\n",
    "        jnp.mean, ds[\"air\"], input_core_dims=[[\"time\"]], kwargs={\"axis\": -1}\n",
    "    )\n",
    "\n",
    "    # We can use the usual tree.map to mask out non-2D arrays.\n",
    "    two_dim_ds = jax.tree.map(lambda x: x if x.ndim == 2 else None, ds)\n",
    "    return ds, two_dim_ds\n",
    "\n",
    "\n",
    "with ipdb.launch_ipdb_on_exception():\n",
    "    ds, two_dim_ds = process_ds(air_ds)  # Output of type XJDataset"
   ]
  },
  {
   "cell_type": "code",
   "execution_count": null,
   "metadata": {},
   "outputs": [],
   "source": [
    "air_ds"
   ]
  },
  {
   "cell_type": "markdown",
   "metadata": {},
   "source": [
    "# Using a xr.DataArray with Diffrax"
   ]
  },
  {
   "cell_type": "code",
   "execution_count": null,
   "metadata": {},
   "outputs": [],
   "source": [
    "import diffrax\n",
    "import jax\n",
    "import jax.numpy as jnp\n",
    "\n",
    "da = xr.DataArray(jnp.arange(10), dims=[\"x\"])\n",
    "\n",
    "\n",
    "@jax.jit\n",
    "def fn(t, y, args):\n",
    "    y_dot = -1.0 * xr.apply_ufunc(jnp.square, y)\n",
    "    return y_dot\n",
    "\n",
    "\n",
    "term = diffrax.ODETerm(fn)\n",
    "solver = diffrax.Dopri5()\n",
    "ts = jnp.linspace(0, 1, 100)\n",
    "\n",
    "with ipdb.launch_ipdb_on_exception():\n",
    "    sol = diffrax.diffeqsolve(\n",
    "        term, solver, t0=0.0, t1=1.0, dt0=0.01, y0=da, saveat=diffrax.SaveAt(ts=ts)\n",
    "    )\n",
    "\n",
    "print(sol.ys)  # TODO: handle the fact that we introduced new coords/dims"
   ]
  }
 ],
 "metadata": {
  "kernelspec": {
   "display_name": ".venv",
   "language": "python",
   "name": "python3"
  },
  "language_info": {
   "codemirror_mode": {
    "name": "ipython",
    "version": 3
   },
   "file_extension": ".py",
   "mimetype": "text/x-python",
   "name": "python",
   "nbconvert_exporter": "python",
   "pygments_lexer": "ipython3",
   "version": "3.10.12"
  }
 },
 "nbformat": 4,
 "nbformat_minor": 2
}
