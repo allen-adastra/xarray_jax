{
 "cells": [
  {
   "cell_type": "code",
   "execution_count": 1,
   "metadata": {},
   "outputs": [],
   "source": [
    "%load_ext autoreload\n",
    "%autoreload 2\n",
    "\n",
    "import jax.numpy as jnp\n",
    "import xarray as xr\n",
    "import jax\n",
    "import xarray_jax\n",
    "\n",
    "\n",
    "var = xr.Variable(\"x\", jnp.array([1, 2, 3]))\n",
    "\n",
    "\n",
    "var_mask = jax.tree.map(lambda x: True, var)\n",
    "\n",
    "da = xr.DataArray(var, dims=[\"x\"], coords={\"x\": [0, 1, 2]})"
   ]
  }
 ],
 "metadata": {
  "kernelspec": {
   "display_name": ".venv",
   "language": "python",
   "name": "python3"
  },
  "language_info": {
   "codemirror_mode": {
    "name": "ipython",
    "version": 3
   },
   "file_extension": ".py",
   "mimetype": "text/x-python",
   "name": "python",
   "nbconvert_exporter": "python",
   "pygments_lexer": "ipython3",
   "version": "3.10.12"
  }
 },
 "nbformat": 4,
 "nbformat_minor": 2
}
